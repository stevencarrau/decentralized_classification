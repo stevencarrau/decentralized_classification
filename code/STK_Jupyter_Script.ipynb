{
 "cells": [
  {
   "cell_type": "markdown",
   "metadata": {},
   "source": [
    "## <font style=\"color: rgb(0,0,0);\">Tutorial: </font> <font style=\"color: rgb(190,138,67);\">Integrating STK with Python</font>\n",
    "\n",
    "***\n",
    "\n",
    "### STK Python API\n",
    "The new STK Python API is only available with STK 12.1 or newer. If not installed, use pip to install it. Example code: pip install \"C:\\Program Files\\AGI\\STK 12\\bin\\AgPythonAPI\\agi.stk<..ver..>-py3-none-any.whl\". If using an older version of STK then use win32api or Comtypes.\n",
    "\n",
    "### IntelliSense\n",
    "When connected to STK via Python, while creating your variable, using the Tab key after periods enables IntelliSense which displays all of the options available off of the current interface. In the next section you will start STK \n",
    "\n"
   ]
  },
  {
   "cell_type": "code",
   "execution_count": null,
   "metadata": {},
   "outputs": [],
   "source": [
    "# uncomment the below to install the API, remember to modify your version, for example agi.stk12-12.2.0-py3-none-any.whl\n",
    "#pip install \"C:/Program Files/AGI/STK 12/bin/AgPythonAPI/agi.stk12<..ver..>-py3-none-any.whl\""
   ]
  },
  {
   "cell_type": "markdown",
   "metadata": {
    "scrolled": true
   },
   "source": [
    "### Problem Statement\n",
    "You will be analyzing the behavior of a satellite when it has contact with a ground site. The task will be repetitive and you consider methods of automating the process and extracting the data. Knowing that you can integrate STK with other tools you decide to explore the process.\n",
    "\n",
    "### Solution\n",
    "Analysis in STK can be integrated and automated with code. You decide to run the process with Python. Using the resources on the STK Help and Github you explore how to model a mission with a script. \n",
    "From this tutorial you will learn how to:\n",
    "- Connect STK to a programming interface\n",
    "- Build a mission through a script\n",
    "- Extract data from STK\n",
    "\n",
    "### Set up your workspace"
   ]
  },
  {
   "cell_type": "code",
   "execution_count": null,
   "metadata": {},
   "outputs": [],
   "source": [
    "# STK library imports\n",
    "from agi.stk12.stkdesktop import STKDesktop\n",
    "from agi.stk12.stkobjects import *\n",
    "from agi.stk12.stkutil import *\n",
    "from agi.stk12.vgt import *\n",
    "# if using astrogator uncomment the below\n",
    "# from agi.stk12.stkobjects.astrogator\n",
    "# if using aviator uncomment the below\n",
    "# from agi.stk12.stkobjects.aviator\n",
    "\n",
    "# Python helper library imports\n",
    "import os"
   ]
  },
  {
   "cell_type": "markdown",
   "metadata": {},
   "source": [
    "### Connect to the STK instance"
   ]
  },
  {
   "cell_type": "code",
   "execution_count": null,
   "metadata": {},
   "outputs": [],
   "source": [
    "# Get reference to the current instance of STK\n",
    "STK_PID = os.getenv('STK_PID')\n",
    "stk = STKDesktop.AttachToApplication(pid=int(STK_PID))\n",
    "\n",
    "# Grab a handle on the STK application root.\n",
    "root = stk.Root "
   ]
  },
  {
   "cell_type": "markdown",
   "metadata": {},
   "source": [
    "### STK Root\n",
    "\n",
    "Recall that the AgStkObjectRoot object is at the apex of the STK Object Model. The associated IAgStkObjectRoot interface will provide the methods and properties to load or create new scenarios and access the Object Model Unit preferences. Through the stk command you have a pointer to the IAgUiApplication interface; however the STK Python API provides a direct handle to the IAgStkObjectRoot via the Root property in STKDesktop or the NewObjectRoot() method in STKEngine.\n",
    "\n",
    "\n",
    "Check that the root object has been built correctly, check the type()"
   ]
  },
  {
   "cell_type": "code",
   "execution_count": null,
   "metadata": {},
   "outputs": [],
   "source": [
    "type(root)\n",
    "\n",
    "# output will be \n",
    "# agi.stk12.stkobjects.AgStkObjectRoot"
   ]
  },
  {
   "cell_type": "markdown",
   "metadata": {},
   "source": [
    "### Connect and design a new scenario\n",
    "\n",
    "Now that you have launched STK via the Python interface, let's see if we can create a new scenario and set the time period via Python. We will create a new scenario, analysis period and reset the animation time.\n"
   ]
  },
  {
   "cell_type": "code",
   "execution_count": null,
   "metadata": {},
   "outputs": [],
   "source": [
    "# 1. Define a scenario object\n",
    "\n",
    "scenario = root.CurrentScenario\n",
    "\n",
    "# 2. Set the analytical time period.\n",
    "\n",
    "scenario.SetTimePeriod('Today','+24hr')\n",
    "\n",
    "# 3. Reset the animation time to the newly established start time.\n",
    "\n",
    "root.Rewind()"
   ]
  },
  {
   "cell_type": "markdown",
   "metadata": {},
   "source": [
    "### Insert and configure objects\n",
    "\n",
    "With a new scenario created, it's time to populate the scenario with objects. Use the STK Python API and the STK Connect commands, via the ExecuteCommand method,  to create a facility and a LEO satellite."
   ]
  },
  {
   "cell_type": "code",
   "execution_count": null,
   "metadata": {},
   "outputs": [],
   "source": [
    "# 1. Add a target object to the scenario. \n",
    "target  = AgTarget(scenario.Children.New(AgESTKObjectType.eTarget,\"GroundTarget\"))\n",
    "\n",
    "# 2. Move the Target object to a desired location.\n",
    "\n",
    "target.Position.AssignGeodetic(50,-100,0)\n",
    "\n",
    "# 3. Add a Satellite object to the scenario.\n",
    "\n",
    "satellite  = AgSatellite(root.CurrentScenario.Children.New(AgESTKObjectType.eSatellite,\"LeoSat\"))\n"
   ]
  },
  {
   "cell_type": "markdown",
   "metadata": {},
   "source": [
    "Examine the below connect command before running. In it we will be using the Set State Classical connect command. Rather than manually setting the times we will use the define scenario times. \n",
    "\n",
    "Print them to confirm."
   ]
  },
  {
   "cell_type": "code",
   "execution_count": null,
   "metadata": {},
   "outputs": [],
   "source": [
    "print(scenario.StartTime)\n",
    "print(scenario.StopTime)"
   ]
  },
  {
   "cell_type": "code",
   "execution_count": null,
   "metadata": {},
   "outputs": [],
   "source": [
    "# 4. Propagate the Satellite object's orbit.\n",
    "\n",
    "root.ExecuteCommand('SetState */Satellite/LeoSat Classical TwoBody \"' + str(scenario.StartTime) + '\" \"' + str(scenario.StopTime) + '\" 60 ICRF  \"' + str(scenario.StartTime) + '\" 7200000.0 0.0 90 0.0 0.0 0.0')"
   ]
  },
  {
   "cell_type": "markdown",
   "metadata": {},
   "source": [
    "### Compute Access between objects\n",
    "\n",
    "You now have a scenario with a Target object and a Satellite object. Determine when the Satellite object can access the Target object.\n",
    "\n",
    "Locate the code needed to compute an access between two STK Objects using the IAgStkObject interface. The access is between the Satellite object and the Target Object.\n",
    "\n",
    "HINT: Review the Python Code snippits\n",
    "http://help.agi.com/stkdevkit/index.htm#stkObjects/ObjModPythonCodeSamples.htm\n",
    "\n"
   ]
  },
  {
   "cell_type": "code",
   "execution_count": null,
   "metadata": {},
   "outputs": [],
   "source": [
    "access = satellite.GetAccessToObject(target)\n",
    "access.ComputeAccess()"
   ]
  },
  {
   "cell_type": "markdown",
   "metadata": {},
   "source": [
    "### Retrieve Access data from STK\n",
    "\n",
    "Now that the scenario is fully built, the final task is to extract data and perform a basic analysis. We have just computed access between our two objects, we can use the STK data providers to pull data out of our scenario."
   ]
  },
  {
   "cell_type": "code",
   "execution_count": null,
   "metadata": {},
   "outputs": [],
   "source": [
    "# Retrieve and view the access data\n",
    "\n",
    "accessDP         = access.DataProviders.Item('Access Data')\n",
    "\n",
    "results          = accessDP.Exec(scenario.StartTime, scenario.StopTime)\n",
    "\n",
    "accessStartTimes = results.DataSets.GetDataSetByName('Start Time').GetValues()\n",
    "\n",
    "accessStopTimes  = results.DataSets.GetDataSetByName('Stop Time').GetValues()\n",
    "\n",
    "print(accessStartTimes,accessStopTimes)"
   ]
  },
  {
   "cell_type": "markdown",
   "metadata": {},
   "source": [
    "### Note: \n",
    "\n",
    "Generating the Start & Stop times in Python can also be pulled using the following lines of code.\n",
    "\n",
    "More information available in [STK Object Model Tutorial](http://help.agi.com/stkdevkit/index.htm#stkObjects/ObjectModelTutorial.html). "
   ]
  },
  {
   "cell_type": "code",
   "execution_count": null,
   "metadata": {},
   "outputs": [],
   "source": [
    "accessIntervals = access.ComputedAccessIntervalTimes\n",
    "\n",
    "dataProviderElements = ['Start Time', 'Stop Time']\n",
    "\n",
    "for i in range(0,accessIntervals.Count):\n",
    "    times = accessIntervals.GetInterval(i)\n",
    "    print(times)"
   ]
  },
  {
   "cell_type": "markdown",
   "metadata": {},
   "source": [
    "### Retrieve the Satellite Altitude Data From STK\n",
    "\n",
    "Retrieve and view the altitude of the satellite during an access interval. In the following lines, note how the data providers must follow the data provider folder, sub-folder, and selection."
   ]
  },
  {
   "cell_type": "code",
   "execution_count": null,
   "metadata": {},
   "outputs": [],
   "source": [
    "satelliteDP       = satellite.DataProviders.Item('LLA State')\n",
    "\n",
    "satelliteDP2      = satelliteDP.Group.Item('Fixed')\n",
    "\n",
    "rptElements       = ['Time', 'Lat', 'Lon', 'Alt']\n",
    "\n",
    "satelliteDPTimeVar = satelliteDP2.ExecElements(accessStartTimes,accessStopTimes, 60, rptElements)\n",
    "\n",
    "satelliteAltitude = satelliteDPTimeVar.DataSets.GetDataSetByName('Alt').GetValues()\n",
    "\n",
    "print(satelliteAltitude)"
   ]
  },
  {
   "cell_type": "markdown",
   "metadata": {},
   "source": [
    "### Mission Complete \n",
    "\n",
    "You have just completed the STK integration with Python tutorial using Jupyter Notebooks. You have connected to the interface, built the mission, and extracted data. Don't forget to save your work. With your scenario safely saved, you can close out of STK. Workflows like these can be expanded and automated for quickly building and analyzing missions.\n"
   ]
  }
 ],
 "metadata": {
  "kernelspec": {
   "display_name": "Python 3 (ipykernel)",
   "language": "python",
   "name": "python3"
  },
  "language_info": {
   "codemirror_mode": {
    "name": "ipython",
    "version": 3
   },
   "file_extension": ".py",
   "mimetype": "text/x-python",
   "name": "python",
   "nbconvert_exporter": "python",
   "pygments_lexer": "ipython3",
   "version": "3.8.10"
  }
 },
 "nbformat": 4,
 "nbformat_minor": 2
}
