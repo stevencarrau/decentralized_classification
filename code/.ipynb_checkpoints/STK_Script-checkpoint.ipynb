{
 "cells": [
  {
   "cell_type": "code",
   "execution_count": 2,
   "metadata": {
    "scrolled": true
   },
   "outputs": [],
   "source": [
    "# Set up your Python workspace\n",
    "# Note: The STK Python API used in this lesson is\n",
    "# only available with STK 12.1.\n",
    "# If not installed then use pip to install it.\n",
    "# pip install agi.stk<..ver..>-py3-none-any.whl\n",
    "# If using an older version of STK then use win32api or Comtypes\n",
    "\n",
    "from agi.stk12.stkdesktop import STKDesktop\n",
    "from agi.stk12.stkobjects import *\n",
    "\n",
    "# When connected to STK via Python, while creating your variable, \n",
    "# using the Tab key after periods enables IntelliSense which displays \n",
    "# all of the options available off of the current interface. \n",
    "# In the next section you will start STK "
   ]
  },
  {
   "cell_type": "code",
   "execution_count": 3,
   "metadata": {},
   "outputs": [],
   "source": [
    "# NOTE FOR STK WEB: you can take advantage of STK/SDF SSO by changing \n",
    "# your script to connect to an active instance instead of creating a \n",
    "# new instance of STK:\n",
    "# Connect to an an instance of STK12\n",
    "# stk = STKDesktop.AttachToApplication()\n",
    "\n",
    "# Create a new instance of STK12.\n",
    "# Optional arguments set the application visible state and the user-control \n",
    "# (whether the application remains open after exiting python).\n",
    "stk = STKDesktop.StartApplication(visible=True, userControl=True)\n",
    "#Check your Task Manager to confirm that STK was called \n",
    "\n",
    "# Grab a handle on the STK application root.\n",
    "root = stk.Root\n",
    "\n",
    "# Recall that the AGStkObjectRoot object is at the apex of the STK Object Model. \n",
    "# The associated IAgStkObjecetRoot interface will provide the methods and properties to load \n",
    "# or create new scenarios and aaccess the Object Model Unit preferences. Through app you have \n",
    "# a pointer to the IAgUiApplication interface. How will you obtain a pointer to the IAgStkObjectRoot\n",
    "# interface? According to IAgUiApplication documentation, the stk.GetObjectRoot() property returns \n",
    "# a new instance of the root object of the STK Object Model. "
   ]
  },
  {
   "cell_type": "code",
   "execution_count": 3,
   "metadata": {},
   "outputs": [
    {
     "data": {
      "text/plain": [
       "agi.stk12.stkobjects.AgStkObjectRoot"
      ]
     },
     "execution_count": 3,
     "metadata": {},
     "output_type": "execute_result"
    }
   ],
   "source": [
    "# Check that the root object has been built correctly, check the type()\n",
    "\n",
    "type(root)\n",
    "\n",
    "# output will be \n",
    "# agi.stk12.stkobjects.AgStkObjectRoot"
   ]
  },
  {
   "cell_type": "code",
   "execution_count": 4,
   "metadata": {},
   "outputs": [],
   "source": [
    "# Now that you have launched STK via the Python interface, \n",
    "# let's see if we can create a new scenario and set the time \n",
    "# period via Python. Create a new scenario, analysis period and \n",
    "# reset the animation time.\n",
    "\n",
    "# 1. Create a new scenario.\n",
    "# The next task is to create a scenario via the NewScenario method \n",
    "# of the IAgStkObjectRoot interface. According to the documentation, \n",
    "# the NewScenario method expects to be passed a string representing \n",
    "# the name of the scenario, but does not return anything.\n",
    "root.NewScenario(\"Python_STK_Training\")\n",
    "\n",
    "scenario = root.CurrentScenario\n",
    "\n",
    "# 2. Set the analytical time period.\n",
    "\n",
    "scenario.SetTimePeriod('Today','+24hr')\n",
    "\n",
    "# 3. Reset the animation time to the newly established start time.\n",
    "\n",
    "root.Rewind();"
   ]
  },
  {
   "cell_type": "code",
   "execution_count": 5,
   "metadata": {},
   "outputs": [],
   "source": [
    "# With a new scenario created, it's time to populate the scenario \n",
    "# with objects. Use the STK Python API\n",
    "\n",
    "# 1. Add a facility\n",
    "facility = scenario.Children.New(STKObjects.eFacility, 'MyFacility')\n",
    "\n",
    "# 2. Add sensors\n",
    "sensor1 = facility.Children.New(STKObjects.eSensor,'Sensor1')\n",
    "sensor2 = facility.Children.New(STKObjects.eSensor,'Sensor2')\n",
    "sensor3 = facility.Children.New(STKObjects.eSensor,'Sensor3')\n",
    "sensor4 = facility.Children.New(STKObjects.eSensor,'Sensor4')\n",
    "\n",
    "# 2. Move the Target object to a desired location.\n",
    "sensor.Position.AssignGeodetic(50,-100,0)"
   ]
  },
  {
   "cell_type": "code",
   "execution_count": 6,
   "metadata": {},
   "outputs": [],
   "source": [
    "# Take a moment to create a LEO satellite using Python and\n",
    "# STK Connect commands, via the ExecuteCommand method.\n",
    "\n",
    "# 3. Add a Satellite object to the scenario.\n",
    "\n",
    "satellite  = AgSatellite(root.CurrentScenario.Children.New(AgESTKObjectType.eSatellite,\"LeoSat\"))"
   ]
  },
  {
   "cell_type": "code",
   "execution_count": 7,
   "metadata": {},
   "outputs": [
    {
     "name": "stdout",
     "output_type": "stream",
     "text": [
      "11 Nov 2022 00:00:00.000\n",
      "12 Nov 2022 00:00:00.000\n"
     ]
    }
   ],
   "source": [
    "# Examine the below connect command before running. In it we will be using the\n",
    "# Set State Classical connect command. Rather than manually setting the times\n",
    "# we will use the define scenario times. Print them to confirm. \n",
    "\n",
    "print(scenario.StartTime)\n",
    "print(scenario.StopTime)\n",
    "\n",
    "# 4. Propagate the Satellite object's orbit.\n",
    "\n",
    "root.ExecuteCommand('SetState */Satellite/LeoSat Classical TwoBody \"' + str(scenario.StartTime) + '\" \"' + str(scenario.StopTime) + '\" 60 ICRF  \"' + str(scenario.StartTime) + '\" 7200000.0 0.0 90 0.0 0.0 0.0');"
   ]
  },
  {
   "cell_type": "code",
   "execution_count": 8,
   "metadata": {},
   "outputs": [],
   "source": [
    "# Now that the scenario is fully built, the final task is to extract data and perform a basic analysis.\n",
    "# You have a scenario with a Target object and a Satellite object. \n",
    "# Determine when the Satellite object can access the Target object.\n",
    "# Locate and manually enter code into Python to compute an access between \n",
    "# two STK Objects using the IAgStkObject interface. \n",
    "# HINT: Review the Python Code snippits\n",
    "# http://help.agi.com/stkdevkit/index.htm#stkObjects/ObjModPythonCodeSamples.htm\n",
    "\n",
    "# Enter and run the lines of code to compute access between the satellite and the target\n",
    "\n",
    "access = satellite.GetAccessToObject(target)\n",
    "access.ComputeAccess();"
   ]
  },
  {
   "cell_type": "code",
   "execution_count": 9,
   "metadata": {},
   "outputs": [
    {
     "name": "stdout",
     "output_type": "stream",
     "text": [
      "['11 Nov 2022 00:15:49.041431922', '11 Nov 2022 01:49:13.979975383', '11 Nov 2022 03:28:53.048365111', '11 Nov 2022 05:12:53.435598890', '11 Nov 2022 12:21:03.702464795', '11 Nov 2022 13:59:41.887646050', '11 Nov 2022 15:40:45.244868931', '11 Nov 2022 17:22:58.110913212'] ['11 Nov 2022 00:18:18.436506142', '11 Nov 2022 02:02:55.334556147', '11 Nov 2022 03:44:31.252580703', '11 Nov 2022 05:24:58.704025153', '11 Nov 2022 12:26:24.027626339', '11 Nov 2022 14:14:15.270571053', '11 Nov 2022 15:56:07.470152130', '11 Nov 2022 17:33:42.254177610']\n"
     ]
    }
   ],
   "source": [
    "# Retrieve and view the access data in Python.\n",
    "\n",
    "accessDP         = access.DataProviders.Item('Access Data')\n",
    "\n",
    "results          = accessDP.Exec(scenario.StartTime, scenario.StopTime)\n",
    "\n",
    "accessStartTimes = results.DataSets.GetDataSetByName('Start Time').GetValues()\n",
    "\n",
    "accessStopTimes  = results.DataSets.GetDataSetByName('Stop Time').GetValues()\n",
    "\n",
    "print(accessStartTimes,accessStopTimes)"
   ]
  },
  {
   "cell_type": "code",
   "execution_count": 10,
   "metadata": {},
   "outputs": [
    {
     "name": "stdout",
     "output_type": "stream",
     "text": [
      "('11 Nov 2022 00:15:49.041', '11 Nov 2022 00:18:18.437')\n",
      "('11 Nov 2022 01:49:13.980', '11 Nov 2022 02:02:55.335')\n",
      "('11 Nov 2022 03:28:53.048', '11 Nov 2022 03:44:31.253')\n",
      "('11 Nov 2022 05:12:53.436', '11 Nov 2022 05:24:58.704')\n",
      "('11 Nov 2022 12:21:03.702', '11 Nov 2022 12:26:24.028')\n",
      "('11 Nov 2022 13:59:41.888', '11 Nov 2022 14:14:15.271')\n",
      "('11 Nov 2022 15:40:45.245', '11 Nov 2022 15:56:07.470')\n",
      "('11 Nov 2022 17:22:58.111', '11 Nov 2022 17:33:42.254')\n"
     ]
    }
   ],
   "source": [
    "# Note: Generating the Start & Stop times in Python can \n",
    "# also be done using the following lines of code.\n",
    "accessIntervals = access.ComputedAccessIntervalTimes\n",
    "\n",
    "dataProviderElements = ['Start Time', 'Stop Time']\n",
    "\n",
    "for i in range(0,accessIntervals.Count):\n",
    "    times = accessIntervals.GetInterval(i)\n",
    "    print(times)"
   ]
  },
  {
   "cell_type": "code",
   "execution_count": 11,
   "metadata": {},
   "outputs": [
    {
     "name": "stdout",
     "output_type": "stream",
     "text": [
      "[836.6900008063624, 837.8760336816506, 838.9811055930059, 839.4881787430944]\n"
     ]
    }
   ],
   "source": [
    "# Retrieve and view the altitude of the satellite during an access interval.\n",
    "\n",
    "satelliteDP       = satellite.DataProviders.Item('LLA State')\n",
    "\n",
    "satelliteDP2      = satelliteDP.Group.Item('Fixed')\n",
    "\n",
    "rptElements       = ['Time', 'Lat', 'Lon', 'Alt']\n",
    "\n",
    "satelliteDPTimeVar = satelliteDP2.ExecElements(accessStartTimes,accessStopTimes, 60, rptElements)\n",
    "\n",
    "satelliteAltitude = satelliteDPTimeVar.DataSets.GetDataSetByName('Alt').GetValues()\n",
    "\n",
    "print(satelliteAltitude)"
   ]
  },
  {
   "cell_type": "code",
   "execution_count": 12,
   "metadata": {},
   "outputs": [],
   "source": [
    "# You have just completed the STK integration with Python tutorial using Jupyter Notebooks. \n",
    "# Don't forget to save your work. \n",
    "\n",
    "# Note: To save your scenario you will want to create a new directory \n",
    "# and then tell python to save all the scenario files there.\n",
    "import os\n",
    "os.mkdir('Python_STK_Training')\n",
    "\n",
    "# This will create a new folder in your scenario directory. \n",
    "# Open a file explorer window and copy the file path. The next \n",
    "# line will use your custom path.\n",
    "\n",
    "directory = os.getcwd() + \"\\Python_STK_Training\"\n",
    "root.ExecuteCommand('Save / * \\\"' + directory + '\\\"');\n",
    "\n",
    "# With your scenario safely saved, you can close out of STK. \n",
    "# Workflows like these can be expanded and automated for quickly building and analyzing missions."
   ]
  }
 ],
 "metadata": {
  "kernelspec": {
   "display_name": "Python 3 (ipykernel)",
   "language": "python",
   "name": "python3"
  },
  "language_info": {
   "codemirror_mode": {
    "name": "ipython",
    "version": 3
   },
   "file_extension": ".py",
   "mimetype": "text/x-python",
   "name": "python",
   "nbconvert_exporter": "python",
   "pygments_lexer": "ipython3",
   "version": "3.10.8"
  }
 },
 "nbformat": 4,
 "nbformat_minor": 2
}
