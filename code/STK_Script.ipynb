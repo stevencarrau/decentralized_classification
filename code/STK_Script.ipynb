{
 "cells": [
  {
   "cell_type": "code",
   "execution_count": 1,
   "metadata": {
    "scrolled": false
   },
   "outputs": [],
   "source": [
    "# Set up your Python workspace\n",
    "# Note: The STK Python API used in this lesson is\n",
    "# only available with STK 12.1.\n",
    "# If not installed then use pip to install it.\n",
    "# pip install agi.stk<..ver..>-py3-none-any.whl\n",
    "# If using an older version of STK then use win32api or Comtypes\n",
    "\n",
    "from agi.stk12.stkdesktop import STKDesktop\n",
    "from agi.stk12.stkobjects import *\n",
    "from Graph import Sensor,  Graph\n",
    "from Graph_Visual import GraphVisual\n",
    "import matplotlib.pyplot as plt\n",
    "import random\n",
    "import copy\n",
    "from STK_Agent import Agent\n",
    "import numpy as np"
   ]
  },
  {
   "cell_type": "code",
   "execution_count": 2,
   "metadata": {},
   "outputs": [],
   "source": [
    "# When connected to STK via Python, while creating your variable, \n",
    "# using the Tab key after periods enables IntelliSense which displays \n",
    "# all of the options available off of the current interface. \n",
    "# In the next section you will start STK \n",
    "\n",
    "# NOTE FOR STK WEB: you can take advantage of STK/SDF SSO by changing \n",
    "# your script to connect to an active instance instead of creating a \n",
    "# new instance of STK:\n",
    "# Connect to an an instance of STK12\n",
    "stk = STKDesktop.AttachToApplication()\n",
    "\n",
    "# Create a new instance of STK12.\n",
    "# Optional arguments set the application visible state and the user-control \n",
    "# (whether the application remains open after exiting python).\n",
    "#stk = STKDesktop.StartApplication(visible=True, userControl=True)\n",
    "#Check your Task Manager to confirm that STK was called \n",
    "\n",
    "# Grab a handle on the STK application root.\n",
    "root = stk.Root\n",
    "root.UnitPreferences.Item('DateFormat').SetCurrentUnit('EpSec')\n",
    "\n",
    "# Recall that the AGStkObjectRoot object is at the apex of the STK Object Model. \n",
    "# The associated IAgStkObjecetRoot interface will provide the methods and properties to load \n",
    "# or create new scenarios and aaccess the Object Model Unit preferences. Through app you have \n",
    "# a pointer to the IAgUiApplication interface. How will you obtain a pointer to the IAgStkObjectRoot\n",
    "# interface? According to IAgUiApplication documentation, the stk.GetObjectRoot() property returns \n",
    "# a new instance of the root object of the STK Object Model. \n",
    "\n",
    "# Check that the root object has been built correctly, check the type()\n",
    "\n",
    "type(root)\n",
    "\n",
    "# output will be \n",
    "# agi.stk12.stkobjects.AgStkObjectRoot\n",
    "\n",
    "# Now that you have launched STK via the Python interface, \n",
    "# let's see if we can create a new scenario and set the time \n",
    "# period via Python. Create a new scenario, analysis period and \n",
    "# reset the animation time.\n",
    "\n",
    "# 1. Create a new scenario.\n",
    "# The next task is to create a scenario via the NewScenario method \n",
    "# of the IAgStkObjectRoot interface. According to the documentation, \n",
    "# the NewScenario method expects to be passed a string representing \n",
    "# the name of the scenario, but does not return anything.\n",
    "#root.CloseScenario()\n",
    "\n",
    "#root.NewScenario(\"STK_Scenario\")\n",
    "\n",
    "scenario = root.CurrentScenario"
   ]
  },
  {
   "cell_type": "code",
   "execution_count": 3,
   "metadata": {
    "scrolled": false
   },
   "outputs": [],
   "source": [
    "# create aircraft/sensor objects with corresponding agents\n",
    "aircraft = []\n",
    "sensors = []\n",
    "\n",
    "for obj in scenario.Children:\n",
    "    if isinstance(obj, AgAircraft):\n",
    "        aircraft.append(Agent(obj.InstanceName, obj))\n",
    "    elif isinstance(obj, AgPlace):\n",
    "        for sensor in obj.Children:\n",
    "            sensors.append(Sensor(sensor.InstanceName, sensor))"
   ]
  },
  {
   "cell_type": "code",
   "execution_count": 4,
   "metadata": {
    "scrolled": true
   },
   "outputs": [
    {
     "name": "stdout",
     "output_type": "stream",
     "text": [
      "Sensor2\n",
      "Aircraft4\n",
      "\n",
      "0.0\n",
      "30.0\n",
      "\n",
      "(8.563, 11.144)\n",
      "8.563\n",
      "(24.444, 27.004)\n",
      "24.444\n"
     ]
    }
   ],
   "source": [
    "# Test Access\n",
    "test_sensor = sensors[0]\n",
    "test_aircraft = aircraft[3]\n",
    "\n",
    "access = test_sensor.stk_ref.GetAccessToObject(test_aircraft.stk_ref)\n",
    "accessIntervals = access.ComputedAccessIntervalTimes\n",
    "\n",
    "dataProviderElements = ['Start Time', 'Stop Time']\n",
    "\n",
    "print(test_sensor.stk_ref.InstanceName)\n",
    "print(test_aircraft.stk_ref.InstanceName)\n",
    "print()\n",
    "\n",
    "print(scenario.StartTime)\n",
    "print(scenario.StopTime)\n",
    "print()\n",
    "\n",
    "for i in range(0, accessIntervals.Count):\n",
    "    times = accessIntervals.GetInterval(i)\n",
    "    print(times)\n",
    "    print(times[0])"
   ]
  },
  {
   "cell_type": "code",
   "execution_count": 5,
   "metadata": {
    "scrolled": false
   },
   "outputs": [
    {
     "data": {
      "image/png": "[encoded data removed]",
      "text/plain": [
       "<Figure size 400x400 with 1 Axes>"
      ]
     },
     "metadata": {},
     "output_type": "display_data"
    }
   ],
   "source": [
    "# create graph\n",
    "subagents = aircraft\n",
    "subagents_names = [a_i.name for a_i in subagents]\n",
    "for a_i in subagents:\n",
    "    a_i.init_sharing_type(subagents_names)\n",
    "    a_i.init_belief(len(subagents))\n",
    "subagents[-1].evil = True   \n",
    "\n",
    "graph = GraphVisual()\n",
    "graph.add_agents(subagents)\n",
    "\n",
    "T = int(scenario.StopTime)\n",
    "\n",
    "true_belief = (1,1,1,1,0)\n",
    "graph.draw_graph(4)\n",
    "plt.ion()\n",
    "plt.show()\n",
    "for t in range(T):\n",
    "    graph.clear()\n",
    "    # Loop once to update connections\n",
    "    for idx, a in enumerate(graph.agents):\n",
    "        agent_list = copy.copy(graph.agents)\n",
    "        agent_list.pop(idx)\n",
    "        \n",
    "        new_vertices = {}\n",
    "        for sensor in sensors:\n",
    "            new_vertices.update(sensor.query(agent_list, t))\n",
    "        new_vertices = list(new_vertices)\n",
    "        \n",
    "        graph.add_vertices(a, new_vertices)\n",
    "        a.updateLocalBelief()\n",
    "    # Loop again to build sharing graphs\n",
    "    for idx,a in enumerate(graph.agents):\n",
    "        belief_packet = dict(\n",
    "            [[v_a.name, v_a.actual_belief] for v_a in graph.vertices[a]])\n",
    "        a.shareBelief(belief_packet)\n",
    "    local_belief = [a.local_belief[true_belief] for a in graph.agents]\n",
    "    actual_belief = [a.actual_belief[true_belief] for a in graph.agents]\n",
    "    print(f\"Local: {local_belief}\")\n",
    "    print(f\"Actual: {actual_belief}\")\n",
    "    plt.pause(1)\n",
    "    graph.update_graph(actual_belief)\n",
    "    plt.draw_all()\n",
    "plt.ioff()\n",
    "plt.show()"
   ]
  },
  {
   "cell_type": "markdown",
   "metadata": {},
   "source": [
    "# Extra stuff that might be helpful"
   ]
  },
  {
   "cell_type": "code",
   "execution_count": 6,
   "metadata": {},
   "outputs": [],
   "source": [
    "# Now that the scenario is fully built, the final task is to extract data and perform a basic analysis.\n",
    "# You have a scenario with a Target object and a Satellite object. \n",
    "# Determine when the Satellite object can access the Target object.\n",
    "# Locate and manually enter code into Python to compute an access between \n",
    "# two STK Objects using the IAgStkObject interface. \n",
    "# HINT: Review the Python Code snippits\n",
    "# http://help.agi.com/stkdevkit/index.htm#stkObjects/ObjModPythonCodeSamples.htm\n",
    "\n",
    "# Enter and run the lines of code to compute access between the satellite and the target\n",
    "\n",
    "# access = satellite.GetAccessToObject(target)\n",
    "# access.ComputeAccess();\n",
    "\n",
    "# # Retrieve and view the access data in Python.\n",
    "\n",
    "# accessDP         = access.DataProviders.Item('Access Data')\n",
    "\n",
    "# results          = accessDP.Exec(scenario.StartTime, scenario.StopTime)\n",
    "\n",
    "# accessStartTimes = results.DataSets.GetDataSetByName('Start Time').GetValues()\n",
    "\n",
    "# accessStopTimes  = results.DataSets.GetDataSetByName('Stop Time').GetValues()\n",
    "\n",
    "# print(accessStartTimes,accessStopTimes)"
   ]
  },
  {
   "cell_type": "code",
   "execution_count": 7,
   "metadata": {},
   "outputs": [],
   "source": [
    "# Note: Generating the Start & Stop times in Python can \n",
    "# also be done using the following lines of code.\n",
    "# accessIntervals = access.ComputedAccessIntervalTimes\n",
    "\n",
    "# dataProviderElements = ['Start Time', 'Stop Time']\n",
    "\n",
    "# for i in range(0,accessIntervals.Count):\n",
    "#     times = accessIntervals.GetInterval(i)\n",
    "#     print(times)\n",
    "#     print(times[1] - times[0])"
   ]
  },
  {
   "cell_type": "code",
   "execution_count": 8,
   "metadata": {},
   "outputs": [],
   "source": [
    "# Retrieve and view the altitude of the satellite during an access interval.\n",
    "\n",
    "# satelliteDP       = satellite.DataProviders.Item('LLA State')\n",
    "\n",
    "# satelliteDP2      = satelliteDP.Group.Item('Fixed')\n",
    "\n",
    "# rptElements       = ['Time', 'Lat', 'Lon', 'Alt']\n",
    "\n",
    "# satelliteDPTimeVar = satelliteDP2.ExecElements(accessStartTimes,accessStopTimes, 60, rptElements)\n",
    "\n",
    "# satelliteAltitude = satelliteDPTimeVar.DataSets.GetDataSetByName('Alt').GetValues()\n",
    "\n",
    "# print(satelliteAltitude)"
   ]
  },
  {
   "cell_type": "code",
   "execution_count": 9,
   "metadata": {},
   "outputs": [],
   "source": [
    "# You have just completed the STK integration with Python tutorial using Jupyter Notebooks. \n",
    "# Don't forget to save your work. \n",
    "\n",
    "# Note: To save your scenario you will want to create a new directory \n",
    "# and then tell python to save all the scenario files there.\n",
    "# import os\n",
    "# os.mkdir('Python_STK_Training')\n",
    "\n",
    "# # This will create a new folder in your scenario directory. \n",
    "# # Open a file explorer window and copy the file path. The next \n",
    "# # line will use your custom path.\n",
    "\n",
    "# directory = os.getcwd() + \"\\Python_STK_Training\"\n",
    "# root.ExecuteCommand('Save / * \\\"' + directory + '\\\"');\n",
    "\n",
    "# With your scenario safely saved, you can close out of STK. \n",
    "# Workflows like these can be expanded and automated for quickly building and analyzing missions."
   ]
  }
 ],
 "metadata": {
  "kernelspec": {
   "display_name": "Python 3 (ipykernel)",
   "language": "python",
   "name": "python3"
  },
  "language_info": {
   "codemirror_mode": {
    "name": "ipython",
    "version": 3
   },
   "file_extension": ".py",
   "mimetype": "text/x-python",
   "name": "python",
   "nbconvert_exporter": "python",
   "pygments_lexer": "ipython3",
   "version": "3.10.8"
  }
 },
 "nbformat": 4,
 "nbformat_minor": 2
}
